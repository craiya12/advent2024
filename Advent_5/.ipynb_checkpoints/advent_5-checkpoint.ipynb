{
 "cells": [
  {
   "cell_type": "code",
   "execution_count": 1,
   "id": "a8585cbb",
   "metadata": {},
   "outputs": [
    {
     "name": "stdout",
     "output_type": "stream",
     "text": [
      "Rules: [[47, 53], [97, 13], [97, 61], [97, 47], [75, 29], [61, 13], [75, 53], [29, 13], [97, 29], [53, 29], [61, 53], [97, 53], [61, 29], [47, 13], [75, 47], [97, 75], [47, 61], [75, 61], [47, 29], [75, 13], [53, 13]]\n",
      "Pages: [[75, 47, 61, 53, 29], [97, 61, 53, 29, 13], [75, 29, 13], [75, 97, 47, 61, 53], [61, 13, 29], [97, 13, 75, 29, 47]]\n"
     ]
    }
   ],
   "source": [
    "import os\n",
    "import pandas as pd\n",
    "import numpy as np\n",
    "import re\n",
    "\n",
    "\n",
    "\n",
    "rules = []\n",
    "pages = []\n",
    "\n",
    "with open(\"advent_5_test.txt\", \"r\") as f:\n",
    "    # Read the entire file content and split on a double newline to separate rules from pages\n",
    "    sections = f.read().strip().split(\"\\n\\n\")\n",
    "\n",
    "# The first section is the rules block, the second is the pages block\n",
    "rules_block, pages_block = sections\n",
    "\n",
    "# Process the rules, splitting each line by '|'\n",
    "for line in rules_block.split(\"\\n\"):\n",
    "    # Convert each part to int and append to rules list\n",
    "    rules.append([int(x) for x in line.split(\"|\")])\n",
    "\n",
    "# Process the pages, splitting each line by ','\n",
    "for line in pages_block.split(\"\\n\"):\n",
    "    # Convert each part to int and append to pages list\n",
    "    pages.append([int(x) for x in line.split(\",\")])\n",
    "\n"
   ]
  },
  {
   "cell_type": "code",
   "execution_count": null,
   "id": "358a7edf",
   "metadata": {},
   "outputs": [],
   "source": [
    "good=[]\n",
    "\n",
    "for \n",
    "\n",
    "\n",
    "for line in pages:\n",
    "    \n",
    "    set_line=set(line)\n",
    "    \n",
    "    \n",
    "    \n",
    "    for check in rules:\n",
    "        \n",
    "        \n",
    "        \n",
    "        if check[1] in set_line:\n",
    "            \n",
    "    "
   ]
  }
 ],
 "metadata": {
  "kernelspec": {
   "display_name": "Python 3 (ipykernel)",
   "language": "python",
   "name": "python3"
  },
  "language_info": {
   "codemirror_mode": {
    "name": "ipython",
    "version": 3
   },
   "file_extension": ".py",
   "mimetype": "text/x-python",
   "name": "python",
   "nbconvert_exporter": "python",
   "pygments_lexer": "ipython3",
   "version": "3.10.9"
  }
 },
 "nbformat": 4,
 "nbformat_minor": 5
}
