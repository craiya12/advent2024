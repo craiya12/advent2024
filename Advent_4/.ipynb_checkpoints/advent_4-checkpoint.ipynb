{
 "cells": [
  {
   "cell_type": "code",
   "execution_count": 2,
   "id": "cfe92ab4",
   "metadata": {},
   "outputs": [],
   "source": [
    "import os\n",
    "import pandas as pd\n",
    "import numpy as np\n",
    "import re\n",
    "\n",
    "\n",
    "file=open('advent_4.txt','r')\n",
    "\n",
    "content=file.readlines()\n",
    "\n",
    "file_test=open('advent_4_test.txt','r')\n",
    "\n",
    "content_test=file_test.readlines()\n",
    "\n",
    "file_test=open('advent_4_test2.txt','r')\n",
    "\n",
    "content_test2=file_test.readlines()"
   ]
  },
  {
   "cell_type": "code",
   "execution_count": 55,
   "id": "59c079f2",
   "metadata": {},
   "outputs": [],
   "source": [
    "# Define a function to read the matrix from a text file\n",
    "def read_matrix_from_file(file_path):\n",
    "    with open(file_path, 'r') as file:\n",
    "        # Read all lines and strip whitespace\n",
    "        lines = [line.strip() for line in file.readlines()]\n",
    "        \n",
    "        # Convert each line into a list of characters\n",
    "        matrix = [list(line) for line in lines]\n",
    "        \n",
    "    return matrix\n",
    "\n",
    "# Specify the file path\n",
    "file_path = 'advent_4.txt'  # Replace with your file name or path\n",
    "\n",
    "# Read the matrix from the file\n",
    "M = read_matrix_from_file(file_path)\n",
    "\n",
    "# Output the matrix\n",
    "\n"
   ]
  },
  {
   "cell_type": "code",
   "execution_count": 56,
   "id": "773fb5e1",
   "metadata": {},
   "outputs": [],
   "source": [
    "X_start=[]\n",
    "\n",
    "for i in range(len(M)):\n",
    "    for j in range(len(M[0])):\n",
    "        if M[i][j]=='X':\n",
    "            \n",
    "            X_start.append([i,j])\n"
   ]
  },
  {
   "cell_type": "code",
   "execution_count": 57,
   "id": "475c98f8",
   "metadata": {},
   "outputs": [
    {
     "name": "stdout",
     "output_type": "stream",
     "text": [
      "2344\n"
     ]
    }
   ],
   "source": [
    "def find_letter(M,X_i,X_j,letter):\n",
    "    x=[-1,0,1]\n",
    "    y=[-1,0,1]    \n",
    "    \n",
    "    direction=[]\n",
    "    \n",
    "    for a in x:\n",
    "        for b in y:\n",
    "            if X_i+a >=0 and X_i+a<len(M) and X_j+b >=0 and X_j+b<len(M[0]):\n",
    "                if M[X_i+a][X_j+b]==letter:\n",
    "                    direction.append([a,b])\n",
    "    \n",
    "    \n",
    "    return direction\n",
    "\n",
    "\n",
    "def find_word(M,word,X_i,X_j,d_x,d_y):\n",
    "    \n",
    "    count=0\n",
    "    found=[False]*len(word)\n",
    "    \n",
    "    for char in word:\n",
    "        if X_i+count*d_x >=0 and X_i+count*d_x<len(M) and X_j+count*d_y >=0 and X_j+count*d_y<len(M[0]):\n",
    "            if M[X_i+count*d_x][X_j+count*d_y]==char:\n",
    "                found[count]=True\n",
    "                count=count+1\n",
    "\n",
    "                \n",
    "\n",
    "    if False not in found:\n",
    "        return True\n",
    "    else:\n",
    "        return False\n",
    "    \n",
    "    \n",
    "word_found=0\n",
    "\n",
    "for pair in X_start:\n",
    "    \n",
    "    direction=find_letter(M,pair[0],pair[1],'M')\n",
    "    \n",
    "    if direction:\n",
    "\n",
    "        for direct in direction:\n",
    "            if find_word(M,'XMAS',pair[0],pair[1],direct[0],direct[1])==True:\n",
    "                word_found=word_found+1\n",
    "\n",
    "print(word_found)"
   ]
  },
  {
   "cell_type": "code",
   "execution_count": 58,
   "id": "dc9f5359",
   "metadata": {},
   "outputs": [],
   "source": [
    "def is_xmas(M,A_i,A_j):\n",
    "    \n",
    "    direction=[[[-1,-1],[1,1]],[[1,-1],[-1,1]]]\n",
    "    \n",
    "    found=[False, False]\n",
    "    \n",
    "    in_bound=[]\n",
    "    \n",
    "    for i in range(2):\n",
    "        for j in range(2):\n",
    "            if A_i+direction[i][j][0] >=0 and A_i+direction[i][j][0]<len(M) and A_j+direction[i][j][1] >=0 and A_j+direction[i][j][1]<len(M[0]):\n",
    "                in_bound.append(True)\n",
    "            else:\n",
    "                in_bound.append(False)\n",
    "    \n",
    "    if False not in in_bound:\n",
    "        \n",
    "        for i in range(2):\n",
    "\n",
    "            if M[A_i+direction[i][0][0]][A_j+direction[i][0][1]]=='M':\n",
    "                if M[A_i+direction[i][1][0]][A_j+direction[i][1][1]]=='S':\n",
    "                    found[i]=True\n",
    "\n",
    "            if M[A_i+direction[i][0][0]][A_j+direction[i][0][1]]=='S':\n",
    "                if M[A_i+direction[i][1][0]][A_j+direction[i][1][1]]=='M':\n",
    "                    found[i]=True\n",
    "\n",
    "                    \n",
    "\n",
    "                    \n",
    "    \n",
    "\n",
    "    \n",
    "    if False not in found:\n",
    "        return True\n",
    "    else:\n",
    "        return False\n",
    "                    \n",
    "                    \n",
    "        \n",
    "        \n",
    "        "
   ]
  },
  {
   "cell_type": "code",
   "execution_count": 59,
   "id": "401c3d40",
   "metadata": {},
   "outputs": [
    {
     "name": "stdout",
     "output_type": "stream",
     "text": [
      "1815\n"
     ]
    }
   ],
   "source": [
    "A_start=[]\n",
    "\n",
    "xmas_found=0\n",
    "\n",
    "for i in range(len(M)):\n",
    "    for j in range(len(M[0])):\n",
    "        if M[i][j]=='A':\n",
    "            \n",
    "            A_start.append([i,j])\n",
    "            \n",
    "\n",
    "\n",
    "for pair in A_start:\n",
    "    if is_xmas(M,pair[0],pair[1])==True:\n",
    "        xmas_found=xmas_found+1\n",
    "        \n",
    "print(xmas_found)"
   ]
  },
  {
   "cell_type": "code",
   "execution_count": null,
   "id": "d6f44fb4",
   "metadata": {},
   "outputs": [],
   "source": []
  }
 ],
 "metadata": {
  "kernelspec": {
   "display_name": "Python 3 (ipykernel)",
   "language": "python",
   "name": "python3"
  },
  "language_info": {
   "codemirror_mode": {
    "name": "ipython",
    "version": 3
   },
   "file_extension": ".py",
   "mimetype": "text/x-python",
   "name": "python",
   "nbconvert_exporter": "python",
   "pygments_lexer": "ipython3",
   "version": "3.10.9"
  }
 },
 "nbformat": 4,
 "nbformat_minor": 5
}
