{
 "cells": [
  {
   "cell_type": "code",
   "execution_count": 98,
   "id": "e069a37d",
   "metadata": {},
   "outputs": [],
   "source": [
    "import os\n",
    "import pandas as pd\n",
    "import copy\n",
    "\n",
    "\n",
    "file=open('advent_7.txt','r')\n",
    "\n",
    "content=file.readlines()\n",
    "\n",
    "ans=[]\n",
    "qu=[]\n",
    "\n",
    "for line in content:\n",
    "    data=line.split(':')\n",
    "    \n",
    "    qu_l=[]\n",
    "    \n",
    "    data_qu=data[1].split()\n",
    "    for num in data_qu:\n",
    "        qu_l.append(int(num))\n",
    "    \n",
    "    ans.append(int(data[0]))\n",
    "    qu.append(qu_l)\n",
    "    \n",
    "#print(ans)\n",
    "#print(qu)\n",
    "    \n",
    "\n",
    "    "
   ]
  },
  {
   "cell_type": "code",
   "execution_count": 99,
   "id": "7fdada57",
   "metadata": {},
   "outputs": [
    {
     "data": {
      "text/plain": [
       "'\\n\\ndef operation(a,b,op):\\n    \\n    if op ==\"0\":\\n\\n        return a+b\\n\\n    if op==\"1\":\\n    \\n        return a*b\\n    \\n    \\nadd_mul=[\\'+\\',\\'*\\']\\n        \\nffull_list=[]\\n\\nfor i in range(len(ans)):\\n    \\n    ans_p=qu[i]\\n    \\n    pc=(2**(len(ans_p)-1))\\n    place=int(len(ans_p)-1)\\n    \\n\\n    \\n    bi_list=[]\\n    full_list=[]\\n    \\n    for j in range(pc):\\n        \\n        \\n        bi_i=bin(j)[2:].zfill(place)\\n        #print(j,bi_i)\\n        bi_list_sub=[]\\n        for char in bi_i:\\n            bi_list_sub.append(add_mul[int(char)])\\n        \\n        bi_list.append(bi_list_sub)\\n        \\n    #print(bi_list)\\n\\n    for bi_op in bi_list:\\n        \\n        \\n        k=0\\n        \\n        calc_list=[]\\n        \\n        turn=\\'qu\\'\\n        \\n        while True:\\n            if k<len(qu[i]) and turn == \\'qu\\':\\n                calc_list.append(str(qu[i][k]))\\n                turn=\\'bi\\'\\n            elif k<len(bi_op) and turn == \\'bi\\':\\n                calc_list.append(bi_op[k])\\n                turn=\\'qu\\'\\n                k+=1\\n            else:\\n                break\\n        #print(calc_list)\\n        full_list.append([ans[i], calc_list])\\n    ffull_list.append(full_list)\\n    #print(ffull_list)\\n    \\n    #for calculation in full_list:\\n'"
      ]
     },
     "execution_count": 99,
     "metadata": {},
     "output_type": "execute_result"
    }
   ],
   "source": [
    "'''\n",
    "\n",
    "def operation(a,b,op):\n",
    "    \n",
    "    if op ==\"0\":\n",
    "\n",
    "        return a+b\n",
    "\n",
    "    if op==\"1\":\n",
    "    \n",
    "        return a*b\n",
    "    \n",
    "    \n",
    "add_mul=['+','*']\n",
    "        \n",
    "ffull_list=[]\n",
    "\n",
    "for i in range(len(ans)):\n",
    "    \n",
    "    ans_p=qu[i]\n",
    "    \n",
    "    pc=(2**(len(ans_p)-1))\n",
    "    place=int(len(ans_p)-1)\n",
    "    \n",
    "\n",
    "    \n",
    "    bi_list=[]\n",
    "    full_list=[]\n",
    "    \n",
    "    for j in range(pc):\n",
    "        \n",
    "        \n",
    "        bi_i=bin(j)[2:].zfill(place)\n",
    "        #print(j,bi_i)\n",
    "        bi_list_sub=[]\n",
    "        for char in bi_i:\n",
    "            bi_list_sub.append(add_mul[int(char)])\n",
    "        \n",
    "        bi_list.append(bi_list_sub)\n",
    "        \n",
    "    #print(bi_list)\n",
    "\n",
    "    for bi_op in bi_list:\n",
    "        \n",
    "        \n",
    "        k=0\n",
    "        \n",
    "        calc_list=[]\n",
    "        \n",
    "        turn='qu'\n",
    "        \n",
    "        while True:\n",
    "            if k<len(qu[i]) and turn == 'qu':\n",
    "                calc_list.append(str(qu[i][k]))\n",
    "                turn='bi'\n",
    "            elif k<len(bi_op) and turn == 'bi':\n",
    "                calc_list.append(bi_op[k])\n",
    "                turn='qu'\n",
    "                k+=1\n",
    "            else:\n",
    "                break\n",
    "        #print(calc_list)\n",
    "        full_list.append([ans[i], calc_list])\n",
    "    ffull_list.append(full_list)\n",
    "    #print(ffull_list)\n",
    "    \n",
    "    #for calculation in full_list:\n",
    "'''"
   ]
  },
  {
   "cell_type": "code",
   "execution_count": 100,
   "id": "c485f852",
   "metadata": {},
   "outputs": [
    {
     "data": {
      "text/plain": [
       "\"\\n\\npossible_ans=[]\\n\\n#display(ffull_list)\\n\\nfor l in ffull_list:\\n    for calc in l:\\n    \\n        \\n        \\n        #print(calc[1])\\n        \\n        test_list=copy.deepcopy(calc[1])\\n        \\n        n=3\\n        p=0\\n        for ijk in range(len(test_list)//2):\\n            test_list.insert(n,')')\\n            p+=1\\n            n=n+3\\n            \\n        for ijk in range(p):\\n            test_list.insert(0,'(')\\n            \\n        #print(test_list)\\n\\n        \\n        \\n        equation=''.join(test_list)\\n\\n\\n        calculation=eval(equation)\\n\\n        #print(equation,'=',calculation,'answer:', calc[0])\\n\\n        if calc[0]==calculation:\\n            #print('match')\\n            #print(test_list)\\n            #print(equation,'=',calculation,'answer:', calc[0])\\n            possible_ans.append(calculation)\\n            break\\n\\n#print(possible_ans)\\nprint(sum(possible_ans))\\n    \\n\\n\\n    \""
      ]
     },
     "execution_count": 100,
     "metadata": {},
     "output_type": "execute_result"
    }
   ],
   "source": [
    "'''\n",
    "\n",
    "possible_ans=[]\n",
    "\n",
    "#display(ffull_list)\n",
    "\n",
    "for l in ffull_list:\n",
    "    for calc in l:\n",
    "    \n",
    "        \n",
    "        \n",
    "        #print(calc[1])\n",
    "        \n",
    "        test_list=copy.deepcopy(calc[1])\n",
    "        \n",
    "        n=3\n",
    "        p=0\n",
    "        for ijk in range(len(test_list)//2):\n",
    "            test_list.insert(n,')')\n",
    "            p+=1\n",
    "            n=n+3\n",
    "            \n",
    "        for ijk in range(p):\n",
    "            test_list.insert(0,'(')\n",
    "            \n",
    "        #print(test_list)\n",
    "\n",
    "        \n",
    "        \n",
    "        equation=''.join(test_list)\n",
    "\n",
    "\n",
    "        calculation=eval(equation)\n",
    "\n",
    "        #print(equation,'=',calculation,'answer:', calc[0])\n",
    "\n",
    "        if calc[0]==calculation:\n",
    "            #print('match')\n",
    "            #print(test_list)\n",
    "            #print(equation,'=',calculation,'answer:', calc[0])\n",
    "            possible_ans.append(calculation)\n",
    "            break\n",
    "\n",
    "#print(possible_ans)\n",
    "print(sum(possible_ans))\n",
    "    \n",
    "\n",
    "\n",
    "    '''\n",
    "    \n",
    "    "
   ]
  },
  {
   "cell_type": "code",
   "execution_count": 101,
   "id": "f8e6767a",
   "metadata": {
    "scrolled": true
   },
   "outputs": [
    {
     "name": "stdout",
     "output_type": "stream",
     "text": [
      "37598910447546\n"
     ]
    }
   ],
   "source": [
    "\n",
    "def op_2(a,b,op):\n",
    "    \n",
    "    if op ==\"+\":\n",
    "\n",
    "        return a+b\n",
    "\n",
    "    if op==\"*\":\n",
    "    \n",
    "        return a*b\n",
    "    \n",
    "    if op=='||':\n",
    "        ab=str(a)+str(b)\n",
    "        return int(ab)\n",
    "        \n",
    "\n",
    "def traverse(index, arr, value, target):\n",
    "    \n",
    "    #print(index,arr,value,target)\n",
    "    \n",
    "\n",
    "    \n",
    "    if index+1>=len(arr):\n",
    "        return value==target\n",
    "    \n",
    "\n",
    "    \n",
    "    if value>target:\n",
    "        return False\n",
    "\n",
    "    op_list=['+','*','||']\n",
    "    \n",
    "    \n",
    "    for i in op_list:\n",
    "        new_value=op_2(value,arr[index+1],i)\n",
    "       \n",
    "        if traverse(index+1, arr, new_value, target):\n",
    "            return True\n",
    "        \n",
    "    return False\n",
    "\n",
    "the_list=[]\n",
    "\n",
    "for target,equation in zip(ans,qu):\n",
    "    check=traverse(0,equation,equation[0],target)\n",
    "    \n",
    "    if check:\n",
    "        the_list.append(target)\n",
    "        \n",
    "print(sum(the_list))"
   ]
  },
  {
   "cell_type": "code",
   "execution_count": 102,
   "id": "079e2b17",
   "metadata": {},
   "outputs": [
    {
     "data": {
      "text/plain": [
       "37599040735984"
      ]
     },
     "execution_count": 102,
     "metadata": {},
     "output_type": "execute_result"
    }
   ],
   "source": [
    "37599040735984"
   ]
  }
 ],
 "metadata": {
  "kernelspec": {
   "display_name": "Python 3 (ipykernel)",
   "language": "python",
   "name": "python3"
  },
  "language_info": {
   "codemirror_mode": {
    "name": "ipython",
    "version": 3
   },
   "file_extension": ".py",
   "mimetype": "text/x-python",
   "name": "python",
   "nbconvert_exporter": "python",
   "pygments_lexer": "ipython3",
   "version": "3.10.9"
  }
 },
 "nbformat": 4,
 "nbformat_minor": 5
}
