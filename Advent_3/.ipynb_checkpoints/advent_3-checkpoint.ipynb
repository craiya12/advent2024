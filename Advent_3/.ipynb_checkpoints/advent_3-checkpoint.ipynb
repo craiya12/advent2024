{
 "cells": [
  {
   "cell_type": "code",
   "execution_count": 7,
   "id": "678ca2e9",
   "metadata": {},
   "outputs": [],
   "source": [
    "import os\n",
    "import pandas as pd\n",
    "import numpy as np\n",
    "import re\n",
    "\n",
    "file=open('advent_3.txt','r')\n",
    "\n",
    "content=file.readlines()\n",
    "\n",
    "file_test=open('advent_3_test.txt','r')\n",
    "\n",
    "content_test=file_test.readlines()"
   ]
  },
  {
   "cell_type": "code",
   "execution_count": 13,
   "id": "c7fa6df3",
   "metadata": {},
   "outputs": [],
   "source": [
    "reports=[]\n",
    "\n",
    "for line in content:\n",
    "    reports.append(line)\n",
    "    "
   ]
  },
  {
   "cell_type": "code",
   "execution_count": 14,
   "id": "656b302a",
   "metadata": {},
   "outputs": [
    {
     "name": "stdout",
     "output_type": "stream",
     "text": [
      "168539636\n"
     ]
    }
   ],
   "source": [
    "def find_mul(string):\n",
    "    pattern = r\"mul\\((\\d{1,3}),(\\d{1,3})\\)\"\n",
    "    matches = re.findall(pattern, string)\n",
    "    return matches\n",
    "    \n",
    "\n",
    "x=[]\n",
    "\n",
    "for line in reports:\n",
    "    m_list=find_mul(line)\n",
    "    for pairs in m_list:\n",
    "        result=int(pairs[0])*int(pairs[1])\n",
    "        x.append(result)\n",
    "        \n",
    "print(sum(x))\n",
    "    "
   ]
  },
  {
   "cell_type": "code",
   "execution_count": null,
   "id": "f20fb856",
   "metadata": {},
   "outputs": [],
   "source": []
  }
 ],
 "metadata": {
  "kernelspec": {
   "display_name": "Python 3 (ipykernel)",
   "language": "python",
   "name": "python3"
  },
  "language_info": {
   "codemirror_mode": {
    "name": "ipython",
    "version": 3
   },
   "file_extension": ".py",
   "mimetype": "text/x-python",
   "name": "python",
   "nbconvert_exporter": "python",
   "pygments_lexer": "ipython3",
   "version": "3.10.9"
  }
 },
 "nbformat": 4,
 "nbformat_minor": 5
}
