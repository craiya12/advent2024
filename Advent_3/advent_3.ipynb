{
 "cells": [
  {
   "cell_type": "code",
   "execution_count": 38,
   "id": "f6bc812d",
   "metadata": {},
   "outputs": [],
   "source": [
    "import os\n",
    "import pandas as pd\n",
    "import numpy as np\n",
    "import re\n",
    "\n",
    "file=open('advent_3.txt','r')\n",
    "\n",
    "content=file.readlines()\n",
    "\n",
    "file_test=open('advent_3_test.txt','r')\n",
    "\n",
    "content_test=file_test.readlines()\n",
    "\n",
    "file_test=open('advent_3_test2.txt','r')\n",
    "\n",
    "content_test2=file_test.readlines()"
   ]
  },
  {
   "cell_type": "code",
   "execution_count": 47,
   "id": "701c2405",
   "metadata": {},
   "outputs": [],
   "source": [
    "reports=[]\n",
    "\n",
    "for line in content:\n",
    "    reports.append(line)\n",
    "\n",
    "#print(reports)"
   ]
  },
  {
   "cell_type": "code",
   "execution_count": 48,
   "id": "d22cbcbb",
   "metadata": {},
   "outputs": [
    {
     "name": "stdout",
     "output_type": "stream",
     "text": [
      "168539636\n"
     ]
    }
   ],
   "source": [
    "def find_mul(string):\n",
    "    pattern = r\"mul\\((\\d{1,3}),(\\d{1,3})\\)\"\n",
    "    matches = [(int(x), int(y)) for x, y in re.findall(pattern, string)]\n",
    "    return matches\n",
    "    \n",
    "\n",
    "x=[]\n",
    "\n",
    "for line in reports:\n",
    "    m_list=find_mul(line)\n",
    "    for pairs in m_list:\n",
    "        result=pairs[0]*pairs[1]\n",
    "        x.append(result)\n",
    "        \n",
    "print(sum(x))\n",
    "    "
   ]
  },
  {
   "cell_type": "code",
   "execution_count": 54,
   "id": "26f20283",
   "metadata": {},
   "outputs": [
    {
     "name": "stdout",
     "output_type": "stream",
     "text": [
      "97529391\n"
     ]
    }
   ],
   "source": [
    "def find_mul_do(string):\n",
    "    pattern = r\"mul\\(\\d{1,3},\\d{1,3}\\)|do\\(\\)|don't\\(\\)\"\n",
    "    matches = re.findall(pattern, string)\n",
    "    return matches\n",
    "    \n",
    "M=[]\n",
    "y=[]\n",
    "\n",
    "for line in reports:\n",
    "    m_list=find_mul_do(line)\n",
    "    M.extend(m_list)\n",
    "    \n",
    "on=True\n",
    "\n",
    "\n",
    "\n",
    "for item in M:\n",
    "    \n",
    "    if item=='do()':\n",
    "        on=True\n",
    "        \n",
    "    elif item==\"don't()\":\n",
    "        on=False\n",
    "    \n",
    "    elif 'mul' in item and on==True:\n",
    "        pairs=find_mul(item)\n",
    "\n",
    "        result=pairs[0][0]*pairs[0][1]\n",
    "        \n",
    "        y.append(result)\n",
    "\n",
    "print(sum(y))\n",
    "\n",
    "\n",
    "        \n"
   ]
  },
  {
   "cell_type": "code",
   "execution_count": null,
   "id": "95b510f0",
   "metadata": {},
   "outputs": [],
   "source": []
  }
 ],
 "metadata": {
  "kernelspec": {
   "display_name": "Python 3 (ipykernel)",
   "language": "python",
   "name": "python3"
  },
  "language_info": {
   "codemirror_mode": {
    "name": "ipython",
    "version": 3
   },
   "file_extension": ".py",
   "mimetype": "text/x-python",
   "name": "python",
   "nbconvert_exporter": "python",
   "pygments_lexer": "ipython3",
   "version": "3.10.9"
  }
 },
 "nbformat": 4,
 "nbformat_minor": 5
}
