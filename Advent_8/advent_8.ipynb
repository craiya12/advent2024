{
 "cells": [
  {
   "cell_type": "code",
   "execution_count": 94,
   "id": "dc1c821f",
   "metadata": {},
   "outputs": [],
   "source": [
    "import os\n",
    "import pandas as pd\n",
    "import numpy as np\n",
    "import re\n",
    "import copy \n",
    "\n",
    "# Define a function to read the matrix from a text file\n",
    "def read_matrix_from_file(file_path):\n",
    "    with open(file_path, 'r') as file:\n",
    "        # Read all lines and strip whitespace\n",
    "        lines = [line.strip() for line in file.readlines()]\n",
    "        \n",
    "        # Convert each line into a list of characters\n",
    "        matrix = [list(line) for line in lines]\n",
    "        \n",
    "    return matrix\n",
    "\n",
    "# Specify the file path\n",
    "file_path = 'advent_8.txt'  # Replace with your file name or path\n",
    "\n",
    "# Read the matrix from the file\n",
    "M = read_matrix_from_file(file_path)\n",
    "\n",
    "file_path_ans = 'advent_8_test_ans.txt'  # Replace with your file name or path\n",
    "\n",
    "# Read the matrix from the file\n",
    "A = read_matrix_from_file(file_path_ans)\n",
    "\n",
    "\n",
    "#display(M)"
   ]
  },
  {
   "cell_type": "code",
   "execution_count": 95,
   "id": "11e6e03e",
   "metadata": {},
   "outputs": [],
   "source": [
    "i_max=len(M)\n",
    "j_max=len(M[0])\n",
    "\n",
    "ant_loc={}\n",
    "ans_loc=set()\n",
    "\n",
    "for i in range(i_max):\n",
    "    for j in range(j_max):\n",
    "        \n",
    "        antenna=M[i][j]\n",
    "        if antenna!='.':\n",
    "            if antenna in ant_loc:\n",
    "                ant_loc[antenna].append([i,j])\n",
    "            else:\n",
    "                ant_loc[antenna]=[[i,j]]\n",
    "\n",
    "  "
   ]
  },
  {
   "cell_type": "code",
   "execution_count": 96,
   "id": "706ea34c",
   "metadata": {},
   "outputs": [
    {
     "name": "stdout",
     "output_type": "stream",
     "text": [
      "426\n"
     ]
    }
   ],
   "source": [
    "distinct=set()\n",
    "\n",
    "for ant in ant_loc:\n",
    "\n",
    "    \n",
    "    for pair in ant_loc[ant]:\n",
    "        \n",
    "        worklist=copy.deepcopy(ant_loc[ant])\n",
    "\n",
    "        worklist.remove(pair)\n",
    "\n",
    "        for check in worklist:\n",
    "            \n",
    "            i_dif=check[0]-pair[0]\n",
    "            \n",
    "            j_dif=check[1]-pair[1]\n",
    "            \n",
    "            if check[0]+i_dif<0 or check[0]+i_dif>=i_max or check[1]+j_dif<0 or check[1]+j_dif>=j_max:\n",
    "                idk=0\n",
    "                \n",
    "            else:\n",
    "                #print(pair[0],pair[1],'(',check[0],i_dif,')(',check[1],j_dif,')','final:',check[0]+i_dif,check[1]+j_dif)\n",
    "                distinct.add((check[0]+i_dif,check[1]+j_dif))\n",
    "                \n",
    "            \n",
    "\n",
    "#print(distinct)\n",
    "\n",
    "            \n",
    "print(len(distinct))\n"
   ]
  },
  {
   "cell_type": "code",
   "execution_count": 97,
   "id": "0a76e4df",
   "metadata": {},
   "outputs": [
    {
     "name": "stdout",
     "output_type": "stream",
     "text": [
      "1359\n"
     ]
    }
   ],
   "source": [
    "antinode=set()\n",
    "\n",
    "for ant in ant_loc:\n",
    "    \n",
    "    for pair in ant_loc[ant]:\n",
    "        antinode.add((pair[0],pair[1]))\n",
    "        \n",
    "        worklist=copy.deepcopy(ant_loc[ant])\n",
    "\n",
    "        worklist.remove(pair)\n",
    "\n",
    "        for check in worklist:\n",
    "            \n",
    "            i_dif=check[0]-pair[0]\n",
    "            \n",
    "            j_dif=check[1]-pair[1]\n",
    "            \n",
    "            out_b=False\n",
    "            k=1\n",
    "            \n",
    "            \n",
    "            while out_b==False:\n",
    "                \n",
    "                if check[0]+k*i_dif<0 or check[0]+k*i_dif>=i_max or check[1]+k*j_dif<0 or check[1]+k*j_dif>=j_max:\n",
    "                    out_b=True\n",
    "\n",
    "                else:\n",
    "                    #print(pair[0],pair[1],'(',check[0],i_dif,')(',check[1],j_dif,')','final:',check[0]+i_dif,check[1]+j_dif)\n",
    "                    antinode.add((check[0]+k*i_dif,check[1]+k*j_dif))\n",
    "                    \n",
    "                    k+=1\n",
    "                    \n",
    "print(len(antinode))\n",
    "                    "
   ]
  },
  {
   "cell_type": "code",
   "execution_count": null,
   "id": "596be1e9",
   "metadata": {},
   "outputs": [],
   "source": []
  }
 ],
 "metadata": {
  "kernelspec": {
   "display_name": "Python 3 (ipykernel)",
   "language": "python",
   "name": "python3"
  },
  "language_info": {
   "codemirror_mode": {
    "name": "ipython",
    "version": 3
   },
   "file_extension": ".py",
   "mimetype": "text/x-python",
   "name": "python",
   "nbconvert_exporter": "python",
   "pygments_lexer": "ipython3",
   "version": "3.10.9"
  }
 },
 "nbformat": 4,
 "nbformat_minor": 5
}
